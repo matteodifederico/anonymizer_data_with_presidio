{
 "cells": [
  {
   "cell_type": "markdown",
   "metadata": {},
   "source": [
    "Import necessary libraries"
   ]
  },
  {
   "cell_type": "code",
   "execution_count": 4,
   "metadata": {},
   "outputs": [],
   "source": [
    "from presidio_analyzer import AnalyzerEngine, PatternRecognizer, Pattern\n",
    "from presidio_anonymizer import AnonymizerEngine\n",
    "from presidio_analyzer.nlp_engine import NlpEngineProvider\n",
    "import spacy.cli\n",
    "from tabulate import tabulate\n",
    "import spacy"
   ]
  },
  {
   "cell_type": "markdown",
   "metadata": {},
   "source": [
    "Configure Mulilaguage model from configuration file"
   ]
  },
  {
   "cell_type": "code",
   "execution_count": 5,
   "metadata": {},
   "outputs": [],
   "source": [
    "provider = NlpEngineProvider(conf_file=\"docs/languages-config.yml\")\n",
    "nlp_engine_multi_language = provider.create_engine()"
   ]
  },
  {
   "cell_type": "markdown",
   "metadata": {},
   "source": [
    "Load or Download Models for Presidio"
   ]
  },
  {
   "cell_type": "code",
   "execution_count": 6,
   "metadata": {},
   "outputs": [],
   "source": [
    "try:\n",
    "    spacy.load(\"en_core_web_lg\")\n",
    "    spacy.load(\"de_core_news_md\")\n",
    "    spacy.load(\"es_core_news_md\")\n",
    "    spacy.load(\"it_core_news_lg\")\n",
    "    spacy.load(\"fr_core_news_sm\")\n",
    "except:\n",
    "    spacy.cli.download(\"en_core_web_lg\")\n",
    "    spacy.cli.download(\"de_core_news_md\")\n",
    "    spacy.cli.download(\"es_core_news_md\")\n",
    "    spacy.cli.download(\"it_core_news_lg\")\n",
    "    spacy.cli.download(\"fr_core_news_sm\")"
   ]
  },
  {
   "cell_type": "markdown",
   "metadata": {},
   "source": [
    "Create list of phrases"
   ]
  },
  {
   "cell_type": "code",
   "execution_count": 7,
   "metadata": {},
   "outputs": [],
   "source": [
    "phrases = [\n",
    "    \"Ciao, sono Maria Doe, il mio volo è ADA456. Vorrei ricevere i dettagli della mia prenotazione.\",\n",
    "    \"Il mio nome è John Doe e il mio PNR è 212-555-5555 e la mia email è jd@test.com.\",\n",
    "    \"Guardando nelle profondità di quell'oscurità, per molto tempo sono rimasto lì, interrogandomi, temendo, dubitando, sognando nessun sogno mortale. Hai mai osato sognare prima d'ora?\"\n",
    "]"
   ]
  },
  {
   "cell_type": "markdown",
   "metadata": {},
   "source": [
    "Create custom PII recogniser base on sample words and context with multilanguage support"
   ]
  },
  {
   "cell_type": "code",
   "execution_count": 22,
   "metadata": {},
   "outputs": [
    {
     "name": "stdout",
     "output_type": "stream",
     "text": [
      "Ciao, sono Maria Doe, il mio volo è ADA456. Vorrei ricevere i dettagli della mia prenotazione.\n",
      "entity_type      start    end    score  value\n",
      "-------------  -------  -----  -------  ---------\n",
      "LOCATION             0      4     0.85  Ciao\n",
      "PERSON              11     20     0.85  Maria Doe\n",
      "\n",
      "\n",
      "Il mio nome è John Doe e il mio PNR è 212-555-5555 e la mia email è jd@test.com.\n",
      "entity_type      start    end    score  value\n",
      "-------------  -------  -----  -------  ------------\n",
      "PNR_NUMBER          32     35     1     PNR\n",
      "EMAIL_ADDRESS       68     79     1     jd@test.com\n",
      "PERSON              14     22     0.85  John Doe\n",
      "PERSON              68     79     0.85  jd@test.com\n",
      "URL                 71     79     0.5   test.com\n",
      "PHONE_NUMBER        38     50     0.4   212-555-5555\n",
      "\n",
      "\n"
     ]
    }
   ],
   "source": [
    "custom_pii_indicator_en = ['pnr']\n",
    "custom_pii_context_words_en = [\"Personal number reservation\", \"booking number\", \"booking code\"] #context words for PII\n",
    "pii_recognizer_en = PatternRecognizer(supported_entity=\"PNR_NUMBER\", supported_language=\"en\", deny_list=custom_pii_indicator_en, context=custom_pii_context_words_en)\n",
    "\n",
    "custom_pii_indicator_it = ['pnr']\n",
    "custom_pii_context_words_it = [\"numero di prenotazione personale\", \"numero di prenotazione\", \"codice di prenotazione\"] #context words for PII\n",
    "pii_recognizer_it = PatternRecognizer(supported_entity=\"PNR_NUMBER\", supported_language=\"it\", deny_list=custom_pii_indicator_it, context=custom_pii_context_words_it)\n",
    "\n",
    "custom_pii_indicator_es = ['pnr']\n",
    "custom_pii_context_words_es = [\"número de reserva personal\", \"número de reserva\", \"código de reserva\"] #context words for PII\n",
    "pii_recognizer_es = PatternRecognizer(supported_entity=\"PNR_NUMBER\", supported_language=\"es\", deny_list=custom_pii_indicator_es, context=custom_pii_context_words_es)\n",
    "\n",
    "custom_pii_indicator_de = ['pnr']\n",
    "custom_pii_context_words_de = [\"persönliche Buchungsnummer\", \"Buchungsnummer\", \"Buchungscode\"] #context words for PII\n",
    "pii_recognizer_de = PatternRecognizer(supported_entity=\"PNR_NUMBER\", supported_language=\"de\", deny_list=custom_pii_indicator_de, context=custom_pii_context_words_de)\n",
    "\n",
    "custom_pii_indicator_fr = ['pnr']\n",
    "custom_pii_context_words_fr = [\"numéro de réservation personnel\", \"numéro de réservation\", \"code de réservation\"] #context words for PII\n",
    "pii_recognizer_fr = PatternRecognizer(supported_entity=\"PNR_NUMBER\", supported_language=\"fr\", deny_list=custom_pii_indicator_fr, context=custom_pii_context_words_fr)\n",
    "\n",
    "#Initialize analyzer\n",
    "analyzer = AnalyzerEngine(nlp_engine=nlp_engine_multi_language, supported_languages=[\"en\", \"it\", \"es\", \"de\", \"fr\"])\n",
    "analyzer.registry.add_recognizer(pii_recognizer_en)\n",
    "analyzer.registry.add_recognizer(pii_recognizer_it)\n",
    "analyzer.registry.add_recognizer(pii_recognizer_es)\n",
    "analyzer.registry.add_recognizer(pii_recognizer_de)\n",
    "analyzer.registry.add_recognizer(pii_recognizer_fr)\n",
    "\n",
    "#Start Analisys\n",
    "for phrase in phrases:\n",
    "    analyzer_results = analyzer.analyze(phrase, language=\"it\")\n",
    "    if analyzer_results:\n",
    "        print(phrase)\n",
    "        table = []\n",
    "        for result in analyzer_results:\n",
    "            value = phrase[result.start:result.end]\n",
    "            table.append([result.entity_type, result.start, result.end, result.score, value])\n",
    "        print(tabulate(table, headers=[\"entity_type\", \"start\", \"end\", \"score\", \"value\"]))\n",
    "        print(\"\\n\")"
   ]
  },
  {
   "cell_type": "markdown",
   "metadata": {},
   "source": [
    "Create custom PII recogniser base on REGEX and context with multilanguage support"
   ]
  },
  {
   "cell_type": "code",
   "execution_count": 18,
   "metadata": {},
   "outputs": [
    {
     "name": "stdout",
     "output_type": "stream",
     "text": [
      "Ciao, sono Maria Doe, il mio volo è ADA456. Vorrei ricevere i dettagli della mia prenotazione.\n",
      "entity_type      start    end    score  value\n",
      "-------------  -------  -----  -------  ---------\n",
      "LOCATION             0      4     0.85  Ciao\n",
      "PERSON              11     20     0.85  Maria Doe\n",
      "FLIGHT_NUMBER       36     42     0.01  ADA456\n",
      "\n",
      "\n",
      "Il mio nome è John Doe e il mio PNR è 212-555-5555 e la mia email è jd@test.com.\n",
      "entity_type      start    end    score  value\n",
      "-------------  -------  -----  -------  ------------\n",
      "EMAIL_ADDRESS       68     79     1     jd@test.com\n",
      "PERSON              14     22     0.85  John Doe\n",
      "PERSON              68     79     0.85  jd@test.com\n",
      "URL                 71     79     0.5   test.com\n",
      "PHONE_NUMBER        38     50     0.4   212-555-5555\n",
      "\n",
      "\n"
     ]
    }
   ],
   "source": [
    "custom_pii_regex = r\"(\\b[A-Za-z]{3}\\d{3}\\b)\" #es: AZA610\n",
    "custom_pii_context_words_it = [\"numero di volo\", \"codice volo\"] #context words for PII\n",
    "custom_pii_context_words_en = [\"flight number\", \"flight code\"] #context words for PII\n",
    "custom_pii_context_words_de = [\"Flugnummer\", \"Flugcode\"] #context words for PII\n",
    "custom_pii_context_words_es = [\"número de vuelo\", \"código de vuelo\"] #context words for PII\n",
    "custom_pii_context_words_fr = [\"numéro de vol\", \"code de vol\"] #context words for PII\n",
    "\n",
    "custom_pii_pattern = Pattern(name=\"flight number\", regex=custom_pii_regex, score=0.01)\n",
    "pii_recognizer_it = PatternRecognizer(supported_entity=\"FLIGHT_NUMBER\", patterns=[custom_pii_pattern], supported_language=\"it\", context=custom_pii_context_words_it)\n",
    "pii_recognizer_en = PatternRecognizer(supported_entity=\"FLIGHT_NUMBER\", patterns=[custom_pii_pattern], supported_language=\"en\", context=custom_pii_context_words_en)\n",
    "pii_recognizer_de = PatternRecognizer(supported_entity=\"FLIGHT_NUMBER\", patterns=[custom_pii_pattern], supported_language=\"de\", context=custom_pii_context_words_de)\n",
    "pii_recognizer_es = PatternRecognizer(supported_entity=\"FLIGHT_NUMBER\", patterns=[custom_pii_pattern], supported_language=\"es\", context=custom_pii_context_words_es)\n",
    "pii_recognizer_fr = PatternRecognizer(supported_entity=\"FLIGHT_NUMBER\", patterns=[custom_pii_pattern], supported_language=\"fr\", context=custom_pii_context_words_fr)\n",
    "\n",
    "#Initialize analyzer\n",
    "analyzer = AnalyzerEngine(nlp_engine=nlp_engine_multi_language, supported_languages=[\"it\", \"en\", \"es\", \"de\", \"fr\"])\n",
    "analyzer.registry.add_recognizer(pii_recognizer_en)\n",
    "analyzer.registry.add_recognizer(pii_recognizer_it)\n",
    "analyzer.registry.add_recognizer(pii_recognizer_es)\n",
    "analyzer.registry.add_recognizer(pii_recognizer_de)\n",
    "analyzer.registry.add_recognizer(pii_recognizer_fr)\n",
    "\n",
    "#Start Analisys\n",
    "for phrase in phrases:\n",
    "    analyzer_results = analyzer.analyze(phrase, language=\"it\")\n",
    "    if analyzer_results:\n",
    "        print(phrase)\n",
    "        table = []\n",
    "        for result in analyzer_results:\n",
    "            value = phrase[result.start:result.end]\n",
    "            table.append([result.entity_type, result.start, result.end, result.score, value])\n",
    "        print(tabulate(table, headers=[\"entity_type\", \"start\", \"end\", \"score\", \"value\"]))\n",
    "        print(\"\\n\")"
   ]
  },
  {
   "cell_type": "code",
   "execution_count": 24,
   "metadata": {},
   "outputs": [
    {
     "name": "stdout",
     "output_type": "stream",
     "text": [
      "Ciao, sono Maria Doe, il mio volo è ADA456. Vorrei ricevere i dettagli della mia prenotazione.\n",
      "<LOCATION>, sono <PERSON>, il mio volo è ADA456. Vorrei ricevere i dettagli della mia prenotazione.\n",
      "\n",
      "\n",
      "\n",
      "Il mio nome è John Doe e il mio PNR è 212-555-5555 e la mia email è jd@test.com.\n",
      "Il mio nome è <PERSON> e il mio PNR è <PHONE_NUMBER> e la mia email è <EMAIL_ADDRESS>.\n",
      "\n",
      "\n",
      "\n"
     ]
    }
   ],
   "source": [
    "#Initialize analyzer\n",
    "analyzer = AnalyzerEngine(nlp_engine=nlp_engine_multi_language, supported_languages=[\"it\", \"en\", \"es\", \"de\", \"fr\"])\n",
    "\n",
    "anonymizer = AnonymizerEngine()\n",
    "\n",
    "#Start Analisys\n",
    "for phrase in phrases:\n",
    "    analyzer_results = analyzer.analyze(phrase, language=\"it\")\n",
    "    if analyzer_results:\n",
    "        anonymized_results = anonymizer.anonymize(phrase, analyzer_results)\n",
    "        print(phrase)\n",
    "        print(anonymized_results.text)\n",
    "        print(\"\\n\\n\")"
   ]
  }
 ],
 "metadata": {
  "kernelspec": {
   "display_name": ".venv",
   "language": "python",
   "name": "python3"
  },
  "language_info": {
   "codemirror_mode": {
    "name": "ipython",
    "version": 3
   },
   "file_extension": ".py",
   "mimetype": "text/x-python",
   "name": "python",
   "nbconvert_exporter": "python",
   "pygments_lexer": "ipython3",
   "version": "3.11.4"
  }
 },
 "nbformat": 4,
 "nbformat_minor": 2
}
